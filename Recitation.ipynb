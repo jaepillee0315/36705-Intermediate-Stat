{
  "nbformat": 4,
  "nbformat_minor": 0,
  "metadata": {
    "colab": {
      "name": "Recitation.ipynb",
      "provenance": [],
      "collapsed_sections": [],
      "include_colab_link": true
    },
    "kernelspec": {
      "name": "python3",
      "display_name": "Python 3"
    }
  },
  "cells": [
    {
      "cell_type": "markdown",
      "metadata": {
        "id": "view-in-github",
        "colab_type": "text"
      },
      "source": [
        "<a href=\"https://colab.research.google.com/github/jaepillee0315/36705-Intermediate-Stat/blob/master/Recitation.ipynb\" target=\"_parent\"><img src=\"https://colab.research.google.com/assets/colab-badge.svg\" alt=\"Open In Colab\"/></a>"
      ]
    },
    {
      "cell_type": "code",
      "metadata": {
        "id": "9Lcdl20vEnyk",
        "colab_type": "code",
        "colab": {}
      },
      "source": [
        "import numpy as np\n",
        "import matplotlib.pyplot as plt\n",
        "import statsmodels.api as sm\n",
        "import itertools\n",
        "from sklearn.preprocessing import PolynomialFeatures\n",
        "import time\n",
        "from scipy.stats import lognorm\n",
        "from statsmodels.nonparametric.kernel_regression import KernelReg"
      ],
      "execution_count": 0,
      "outputs": []
    },
    {
      "cell_type": "code",
      "metadata": {
        "id": "1s7N1MM2GIXf",
        "colab_type": "code",
        "colab": {}
      },
      "source": [
        "change_mile = np.load('change_mile.npy')\n",
        "X = np.load('mileage.npy')\n",
        "y = np.load('decision.npy')"
      ],
      "execution_count": 0,
      "outputs": []
    },
    {
      "cell_type": "markdown",
      "metadata": {
        "id": "cG5P039_UFHr",
        "colab_type": "text"
      },
      "source": [
        "**Harold Zurcher Problem**\n",
        "  * Action set $\\mathcal{J}$:\n",
        "    * $j = 0$: change the bus engine\n",
        "    * $j = 1$: do not change the bus engine\n",
        "  * State space $\\mathcal{X}$:\n",
        "    * $x \\in \\mathbb{R_{+}}$: accumulated miles on the bus engine\n",
        "  * Stochastic dynamics of the state space $F(x'|x,j)$, $j \\in \\mathcal{J}$ and $x,x' \\in \\mathcal{X}$\n",
        "    * $x'$ represents the next period bus mileage given: \\\\\n",
        "    1) the current mileage $x$ \\\\\n",
        "    2) Harold Zurcher action $j$"
      ]
    },
    {
      "cell_type": "markdown",
      "metadata": {
        "id": "vh3afH-0s3Lv",
        "colab_type": "text"
      },
      "source": [
        "We can write the value function condtional on the choice $j \\in \\lbrace 0,1\\rbrace$:\n",
        "\\begin{align*}\n",
        "v_0(x) & = u_0(x) + \\beta \\int_{0}^{\\infty} V(x')f(x'|x,0)dx' \\\\\n",
        "v_1(x) & = u_1(x) + \\beta \\int_{x}^{\\infty} V(x')f(x'|x,1)dx'\n",
        "\\end{align*}\n",
        "We can express the continuation value $V(x')$ as a function of the value functions conditional the action $j$:\n",
        "\\begin{align*}\n",
        "  V(x') & = \\mathbb{E}_{\\varepsilon}\\left[ \\max_{j \\in \\mathcal{J}} v_{j}(x')+\\varepsilon_j \\right] \\\\\n",
        "  & = \\gamma + \\log( \\exp(v_0(x')) + \\exp(v_1(x')))\n",
        "\\end{align*}\n",
        "given our assumptions about the distribution of the error terms. In particular, we have assumed that the errors follow a Type-1 Extreme Value distribution, and we have exploited the following properties:\n",
        "  * $X \\sim EV(\\mu,1)$, $a \\in \\mathbb{R}$, then $X+a \\sim EV(\\mu,1)$\n",
        "  * $X \\sim EV(\\mu_x,1)$, $Y \\sim EV(\\mu_y,1)$, then $\\max(X,Y) \\sim EV(\\log(\\exp(\\mu_x)+\\exp(\\mu_y)),1)$\n",
        " \n",
        " \n",
        "We can replace the above expression above and write for action $j=0$:\n",
        "\\begin{align*}\n",
        "v_0(x) & = u_0(x) +  \\beta \\int_{0}^{\\infty} \\left[ \\gamma + v_0(x') + \\log \\left(1+\\exp\\left(v_0(x')-v_1(x')\\right)\\right)\\right] f(x'|x,0)dx' \\\\\n",
        "& = u_0(x) + \\beta \\int_{0}^{\\infty} \\left[ \\gamma + u_0(x') + \\beta \\int_{0}^{+\\infty} V(x'')f(x''|x',0)  dx'' + \\log \\left(1+\\exp\\left(v_1(x')-v_0(x')\\right)\\right)\\right] f(x'|x,0)dx'\n",
        "\\end{align*}\n",
        "\n",
        "Similarly, we have for action $j=1$ we have:\n",
        "\\begin{align*}\n",
        "v_1(x) & = u_1(x) +  \\beta \\int_{x}^{\\infty} \\left[ \\gamma + v_0(x') + \\log \\left(1+\\exp\\left(v_1(x')-v_0(x')\\right)\\right)\\right] f(x'|x,1)dx' \\\\\n",
        "& = u_1(x) + \\beta \\int_{x}^{\\infty} \\left[ \\gamma + u_0(x') + \\beta \\int_{0}^{+\\infty} V(x'')f(x''|x',0)  dx'' + \\log \\left(1+\\exp\\left(v_1(x')-v_0(x')\\right)\\right)\\right] f(x'|x,1)dx'\n",
        "\\end{align*}\n",
        "\n",
        "We have shown in class that:\n",
        "\\begin{align*}\n",
        "V(x) & = v_{j}(x) + \\gamma - \\log P(d=j|x) \\ \\ \\forall j\\in \\lbrace 0,1\\rbrace, \\forall x \\in \\mathcal{X}\n",
        "\\end{align*}\n",
        "and therefore, we can replace $v_1(x')-v_0(x')$ in the integrals computed above\n",
        "\\begin{align*}\n",
        "v_1(x')-v_0(x') & = \\log P(d=1|x)- \\log P(d=0|x) \\\\\n",
        "                & = \\log \\left( \\frac{P(d=1|x)}{ P(d=0|x)}  \\right)\n",
        "\\end{align*}\n",
        "by simply rerraning the equation above. \n",
        "Now, we can rewrite:\n",
        "\\begin{align*}\n",
        "\\log \\left(1+\\exp\\left(v_1(x')-v_0(x')\\right) \\right)& = \\log\\left(1 + \\frac{P(d=1|x)}{ P(d=0|x)} \\right) \\\\\n",
        "& = \\log\\left(\\frac{P(d=0|x)+P(d=1|x)}{ P(d=0|x)} \\right) \\\\\n",
        "& = \\log\\left(\\frac{1}{ P(d=0|x)} \\right) \\\\\n",
        "& = - \\log\\left({P(d=0|x)} \\right) \\\\\n",
        "\\end{align*}\n",
        "\n"
      ]
    },
    {
      "cell_type": "markdown",
      "metadata": {
        "id": "nxEj7CCu8gBL",
        "colab_type": "text"
      },
      "source": [
        "\\begin{align*}\n",
        "v_0(x) & = u_0(x) + \\beta \\int_{0}^{\\infty} \\left[ \\gamma + u_0(x') + \\beta \\int_{0}^{+\\infty} V(x'')f(x''|x',0)  dx'' - \\log P(d=0|x')\\right] f(x'|x,0)dx' \\\\\n",
        "v_1(x) &  = u_1(x) + \\beta \\int_{x}^{\\infty} \\left[ \\gamma + u_0(x') + \\beta \\int_{0}^{+\\infty} V(x'')f(x''|x',0)  dx'' -\\log P(d=0|x')  \\right] f(x'|x,1)dx'\n",
        "\\end{align*}\n",
        "What do the two expression have in common? We can exploit fact that $f(x''|x',0)$ does not depend on $x'$:\n",
        "\\begin{align*}\n",
        "\\int_{0}^{\\infty} \\left[ \\gamma + \\beta \\int_{0}^{+\\infty} V(x'')f(x''|x',0) \\right] dx'' f(x'|x,0)dx' = \\int_{x}^{\\infty} \\left[ \\gamma + \\beta \\int_{0}^{+\\infty} V(x'')f(x''|x',0) \\right] dx'' f(x'|x,1)dx' \\\\\n",
        "\\int_{0}^{\\infty} \\left[ \\gamma + \\beta \\int_{0}^{+\\infty} V(x'')f(x''|0) \\right] dx'' f(x'|x,0)dx' = \\int_{x}^{\\infty} \\left[ \\gamma + \\beta \\int_{0}^{+\\infty} V(x'')f(x''|0) \\right] dx'' f(x'|x,1)dx'\n",
        "\\end{align*}\n",
        "to simplify the two equations for the conditional value functions:\n",
        "\\begin{align*}\n",
        "v_0(x) & = u_0(x) + \\beta \\int_{0}^\\infty \\left[u_0(x') - \\log\\left(P(d=0|x')\\right) \\right] f(x'|x,0)dx' \\\\\n",
        "v_1(x) & = u_1(x) + \\beta \\int_{x}^\\infty \\left[u_0(x') - \\log\\left(P(d=0|x')\\right) \\right] f(x'|x,1)dx'\n",
        "\\end{align*}\n",
        "Now, a convenient but not innocuous assumption is that $u_0(x)=\\theta_0 \\ \\ \\forall x \\in \\mathcal{X}$. In this particular case, we have clearly that:\n",
        "\\begin{align*}\n",
        "  \\int_{0}^\\infty  u_0(x') f(x'|x,0) dx'=  \\int_{x}^\\infty u_0(x') f(x'|x,1) dx'\n",
        "\\end{align*} \n",
        "so we can lose another piece:\n",
        "\\begin{align*}\n",
        "v_0(x) & = u_0(x) + \\beta \\int_{0}^\\infty \\left[ - \\log\\left(P(d=0|x')\\right) \\right] f(x'|x,0)dx' \\\\\n",
        "v_1(x) & = u_1(x) + \\beta \\int_{x}^\\infty \\left[- \\log\\left(P(d=0|x')\\right) \\right] f(x'|x,1)dx'\n",
        "\\end{align*}\n",
        "Now, it is the time to make the structural estimation assumption, i.e. to clearly point out which are the primitives that characterize the utility. We have already assume that $u_0(x)=\\theta_0$ is a constant, and now we assume that $u_1(x)=\\theta_1 x + \\theta_2 x^2$. Clearly, the assumptions made here, i.e. the functional form of the utility function are an educated guess of the researcher. \n",
        "\\begin{align*}\n",
        "v_0(x) & = \\theta_0 + \\beta \\int_{0}^\\infty \\left[ - \\log\\left(P(d=0|x')\\right) \\right] f(x'|x,0)dx' \\\\\n",
        "v_1(x) & = \\theta_1 x + \\theta_2 x^2 + \\beta \\int_{x}^\\infty \\left[- \\log\\left(P(d=0|x')\\right) \\right] f(x'|x,1)dx'\n",
        "\\end{align*}\n",
        "\n"
      ]
    },
    {
      "cell_type": "markdown",
      "metadata": {
        "id": "4sS0wBvV8KT-",
        "colab_type": "text"
      },
      "source": [
        "Keep in mind that we have already estimated: \n",
        "* the transition probabilities$f(x'|x,1)$, $f(x'|x,0)$ $\\forall x, x' \\in \\mathcal{X}$ \n",
        "* the CCPs $P(d=0|x')$\n",
        "In this way, we can replace the empirical analogues. Keep in mind that by assumption about the Type-1 errors:\n",
        "\\begin{align*}\n",
        "P(d=1|x) & = Pr(v_1(x)+\\varepsilon_1 \\geq v_0(x)+\\varepsilon_0) \\\\\n",
        "        & = \\frac{\\exp(v_1(x))}{\\exp(v_1(x)) + \\exp(v_0(x))} \\\\\n",
        "        & = \\frac{\\exp(v_1(x)-v_0(x))}{1 + \\exp(v_1(x)-v_0(x))}\n",
        "\\end{align*}\n",
        "We can now express $P(d=1|x)$ as a function of:\n",
        "* the estimates performed in the first stage\n",
        "* the structural parameters $\\theta_0,\\theta_1,\\theta_2$\n",
        "In this case, we have that:\n",
        "\\begin{align*}\n",
        "  v_1(x)-v_0(x) = \\theta_1 x + \\theta_2 x^2 - \\theta_0 + \\beta \\left( \\int_{0}^\\infty \\left(f(x'|x,1)-f(x'|x,0)\\right)[-\\log P(d=0|x')] dx'  \\right)\n",
        "\\end{align*}\n",
        "Now, let define:\n",
        "\\begin{align*}\n",
        " \\hat{h}(x) & = \\beta \\left( \\int_{0}^\\infty \\left(\\hat{f}(x'|x,1)-\\hat{f}(x'|x,0)[-\\log \\hat{P}(d=0|x')]\\right) dx'  \\right)\n",
        "\\end{align*}\n",
        "Keep in mind that given that we have made paremetric assumptions about the utility function, we can now estimate also the discount factor $\\beta$\n",
        "Now, by maximum likelihood we can estimate:\n",
        "\\begin{align*}\n",
        "\\mathcal{L}(\\theta_0,\\theta_1,\\theta_2,\\beta|y,X) & = \\prod_{i=1}^N \\prod_{t=1}^T \\prod_{j=0}^1 P(d_{it}=j)^{d_{it}=j} \\\\\n",
        "& = \\prod_{i=1}^N \\prod_{t=1}^T \\left(\\frac{\\exp(\\theta_1 x_{it} + \\theta_2 x_{it}^2 -\\theta_0 + \\beta \\hat{h}(x_{it}))}{1+\\exp(\\theta_1 x_{it} + \\theta_2 x_{it}^2 -\\theta_0 + \\beta \\hat{h}(x_{it}))}\\right)^{d_{it}=1} \\left(\\frac{1}{1+\\exp(\\theta_1 x_{it} + \\theta_2 x_{it}^2 -\\theta_0 + \\beta \\hat{h}(x_{it}))}\\right)^{d_{it}=0}\n",
        "\\end{align*}\n"
      ]
    },
    {
      "cell_type": "markdown",
      "metadata": {
        "id": "DsHTXU4iRxJ-",
        "colab_type": "text"
      },
      "source": [
        "We have established the elements that characterize Harold Zurcher problem. We now need to estimate:\n",
        "  * transition probabilities, $F(x'|x,j)$ for each action in the action set $\\mathcal{J}$\n",
        "  * conditional choice probabilities $Pr(d=j|x)$"
      ]
    },
    {
      "cell_type": "markdown",
      "metadata": {
        "id": "NaMksaMNSjvu",
        "colab_type": "text"
      },
      "source": [
        "**Estimation of the Transition Probabilities** \\\\\n",
        "First of all, we take a look at the histogram representing the distribution of the monthly change in the mileage of buses $x'-x=\\Delta x$, conditional on Harold Zuercher having decided to not change the engine (i.e. for $j=1$), but unconditionally on miles previously accumulated $x$."
      ]
    },
    {
      "cell_type": "code",
      "metadata": {
        "id": "weABn_yjTdDh",
        "colab_type": "code",
        "outputId": "54d73b6f-86e4-4220-da21-0ed32a448371",
        "colab": {
          "base_uri": "https://localhost:8080/",
          "height": 297
        }
      },
      "source": [
        "plt.figure()\n",
        "plt.hist(change_mile)\n",
        "plt.xlabel('Change in Mileage')\n",
        "plt.ylabel('N. Obs.')\n",
        "plt.title('Empirical Distribution of Change in Bus Mileage, conditional on $j=1$')\n",
        "plt.show()"
      ],
      "execution_count": 0,
      "outputs": [
        {
          "output_type": "display_data",
          "data": {
            "image/png": "[encoded data removed]",
            "text/plain": [
              "<Figure size 432x288 with 1 Axes>"
            ]
          },
          "metadata": {
            "tags": []
          }
        }
      ]
    },
    {
      "cell_type": "markdown",
      "metadata": {
        "id": "bANSMbc1c6iP",
        "colab_type": "text"
      },
      "source": [
        "We can observe that the change in the bus mileage is upper-bounded by 0.10, which tells us that in the data, we do not observe any bus running more than 10 thousands miles in a month. What does this suggest? In order to estimate the transition probabilities, we should probably stick to probabilities distributions that either:\n",
        "  * are discrete;\n",
        "  * have a bounded support.\n",
        "\n",
        "For simplicity, we choose the distribution to be discrete, and we impose the following (empirically guided) restriction:\n",
        "\\begin{align*}\n",
        "Pr(x'-x = \\Delta x ) > 0 \\ \\  \\mbox{iff.} \\ \\ \\Delta x  \\in [0,0.10] \n",
        "\\end{align*}\n",
        "\n",
        "Now, what we have represented above is the empirical version $F(\\Delta x|j)$, that is something a bit different from the object we represented above, i.e. $F(x'|x,j)$. The next question we need to answer is whether we can approximate $F(\\Delta x |x,j)$ with $F(\\Delta x|j)$, that, if the distance traveled by a bus does not depend on the previously accumulated mileage $x$. "
      ]
    },
    {
      "cell_type": "markdown",
      "metadata": {
        "id": "WIBcZqqSgnDx",
        "colab_type": "text"
      },
      "source": [
        "One possible way to see whether the accumulated mileage $x$ is somewhat correlated with the future distance run by the bus $\\Delta x$. To do this, we run a simple OLS regression:\n",
        "\\begin{align*}\n",
        "  \\Delta  x_{it} & = \\beta_0 + \\beta_1 x_{it} + \\varepsilon_{it}\n",
        "\\end{align*}\n",
        "where $i$ denotes the bus and $t$ denotes the time. $\\beta_0$ represents the average distance run by a bus in a certain month, whike $\\beta_1$ represents the marginal effect of an additional accumulated mile on the distance run by the bus. "
      ]
    },
    {
      "cell_type": "code",
      "metadata": {
        "id": "YXpQp1vlXJNl",
        "colab_type": "code",
        "outputId": "dd2876b2-356f-4985-8d61-b138d85bf172",
        "colab": {
          "base_uri": "https://localhost:8080/",
          "height": 737
        }
      },
      "source": [
        "X_temp = np.c_[X[1:]-X[:-1],X[1:]]\n",
        "X_temp = X_temp[X_temp[:,0]>0.0001,:]\n",
        "X_temp = X_temp[X_temp[:,0]<0.1,:]\n",
        "X_temp = X_temp[X_temp[:,1]>0,:]\n",
        "\n",
        "mod = sm.OLS(X_temp[:,0],sm.add_constant(X_temp[:,1]))\n",
        "res = mod.fit()\n",
        "print(res.summary())\n",
        "\n",
        "plt.figure()\n",
        "plt.plot()\n",
        "plt.scatter(X_temp[:,1],X_temp[:,0])\n",
        "x = np.linspace(0,3.5,100)\n",
        "plt.plot(x,x * res.params[1] + res.params[0],color='r')\n",
        "plt.xlabel('Accumulated Mileage $x$')\n",
        "plt.ylabel('$\\Delta x$')\n",
        "plt.show()\n",
        "\n"
      ],
      "execution_count": 0,
      "outputs": [
        {
          "output_type": "stream",
          "text": [
            "                            OLS Regression Results                            \n",
            "==============================================================================\n",
            "Dep. Variable:                      y   R-squared:                       0.000\n",
            "Model:                            OLS   Adj. R-squared:                  0.000\n",
            "Method:                 Least Squares   F-statistic:                     2.188\n",
            "Date:                Fri, 14 Feb 2020   Prob (F-statistic):              0.139\n",
            "Time:                        00:07:53   Log-Likelihood:                 35454.\n",
            "No. Observations:               12472   AIC:                        -7.090e+04\n",
            "Df Residuals:                   12470   BIC:                        -7.089e+04\n",
            "Df Model:                           1                                         \n",
            "Covariance Type:            nonrobust                                         \n",
            "==============================================================================\n",
            "                 coef    std err          t      P>|t|      [0.025      0.975]\n",
            "------------------------------------------------------------------------------\n",
            "const          0.0254      0.000    113.460      0.000       0.025       0.026\n",
            "x1            -0.0003      0.000     -1.479      0.139      -0.001    8.19e-05\n",
            "==============================================================================\n",
            "Omnibus:                      817.092   Durbin-Watson:                   0.516\n",
            "Prob(Omnibus):                  0.000   Jarque-Bera (JB):              644.411\n",
            "Skew:                           0.469   Prob(JB):                    1.17e-140\n",
            "Kurtosis:                       2.400   Cond. No.                         3.39\n",
            "==============================================================================\n",
            "\n",
            "Warnings:\n",
            "[1] Standard Errors assume that the covariance matrix of the errors is correctly specified.\n"
          ],
          "name": "stdout"
        },
        {
          "output_type": "display_data",
          "data": {
            "image/png": "[encoded data removed]",
            "text/plain": [
              "<Figure size 432x288 with 1 Axes>"
            ]
          },
          "metadata": {
            "tags": []
          }
        }
      ]
    },
    {
      "cell_type": "markdown",
      "metadata": {
        "id": "CydFjU5Yc37p",
        "colab_type": "text"
      },
      "source": [
        "The estimated $\\hat{\\beta}_1$ is very small, and from the picture above, it barely changes the expected distance traveled by a bus. Therefore, we can safely assume that transition probability depends only the action taken, and not on the state. Below we estimate the probability distribution under the assumptions that we have derived so far:\n",
        "  * discrete and bounded support\n",
        "  * independent on the accumulated mileage $x$\n",
        "\n",
        "We divide the interval $[0,0.1]$ into 20 subintervals (each of them corresponding 500 miles), and we compute the empirical distribution as follows:\n",
        "\\begin{align*}\n",
        " \\hat{Pr}(x'-x \\in [\\Delta x_{j-1},\\Delta x_{j}]) & = \\frac{1}{nT} \\sum_{t=1}^T \\sum_{i=1}^n \\frac { \\mathbb{1} (\\Delta x_{j-1} \\leq \\Delta x_{it}\\leq \\Delta x_{j}) }{nT} \\ \\ \\ j=1,\\cdots,20\n",
        "\\end{align*}"
      ]
    },
    {
      "cell_type": "code",
      "metadata": {
        "id": "pym_Wj9HQqe8",
        "colab_type": "code",
        "outputId": "7de3e422-7a50-4eff-caa8-3e6018af3083",
        "colab": {
          "base_uri": "https://localhost:8080/",
          "height": 299
        }
      },
      "source": [
        "N_t = 20\n",
        "thresholds = np.r_[np.linspace(0,.1,N_t+1),[1]]\n",
        "phat = np.zeros((len(thresholds)-1,))\n",
        "\n",
        "for i in range(N_t):\n",
        "  phat[i] = len(change_mile[np.all([change_mile >= thresholds[i], change_mile < thresholds[i+1]], axis=0)])/len(change_mile)\n",
        "\n",
        "plt.figure()\n",
        "plt.plot(thresholds[:-1],phat)\n",
        "plt.xlabel('Change in Mileage $\\Delta x$')\n",
        "plt.title('Empirical Probability')\n",
        "plt.show()\n"
      ],
      "execution_count": 0,
      "outputs": [
        {
          "output_type": "display_data",
          "data": {
            "image/png": "[encoded data removed]",
            "text/plain": [
              "<Figure size 432x288 with 1 Axes>"
            ]
          },
          "metadata": {
            "tags": []
          }
        }
      ]
    },
    {
      "cell_type": "markdown",
      "metadata": {
        "id": "d0vXJbiPlsdo",
        "colab_type": "text"
      },
      "source": [
        "**Estimation of the Conditional Choice Probabilities**\n",
        "\n",
        "We can now focus on the estimation of the conditional choice probabilities. In this case, the state space is continuous, and we have two natural choices:\n",
        "  * discretize the state space, and compute the conditional choice probability for each cell\n",
        "  * treat the state space as continuous, and use a non-parametric regression\n",
        "\n",
        "In this case, we have more than 13000 observation, so we do not need to aggregate up observations into cells, although the distribution of the accumulated mileage do not look uniform:"
      ]
    },
    {
      "cell_type": "code",
      "metadata": {
        "id": "JIlb9fTeHbRO",
        "colab_type": "code",
        "colab": {}
      },
      "source": [
        "kr = KernelReg(y, X, var_type='c', reg_type='lc')"
      ],
      "execution_count": 0,
      "outputs": []
    },
    {
      "cell_type": "code",
      "metadata": {
        "id": "kPBYpyyOoZBa",
        "colab_type": "code",
        "outputId": "87cd9841-941b-43d6-edc7-aa7c907947f2",
        "colab": {
          "base_uri": "https://localhost:8080/",
          "height": 283
        }
      },
      "source": [
        "plt.figure()\n",
        "plt.hist(X)\n",
        "plt.xlabel('Accumulated Mileage $x$')\n",
        "plt.ylabel('N. Observations')\n",
        "plt.show()"
      ],
      "execution_count": 0,
      "outputs": [
        {
          "output_type": "display_data",
          "data": {
            "image/png": "[encoded data removed]",
            "text/plain": [
              "<Figure size 432x288 with 1 Axes>"
            ]
          },
          "metadata": {
            "tags": []
          }
        }
      ]
    },
    {
      "cell_type": "code",
      "metadata": {
        "id": "fQ5zfL4CaCU8",
        "colab_type": "code",
        "outputId": "bd560d0a-fd09-4655-85da-f425dc91eb9d",
        "colab": {
          "base_uri": "https://localhost:8080/",
          "height": 297
        }
      },
      "source": [
        "x = np.linspace(0,3,100)\n",
        "y_hat = kr.fit(x)\n",
        "plt.figure()\n",
        "plt.plot(x,y_hat[0])\n",
        "plt.xlabel('Mileage x')\n",
        "plt.ylabel('')\n",
        "plt.title('Non-Parametrically Estimated $P(d=1|x)$')\n",
        "plt.show()"
      ],
      "execution_count": 0,
      "outputs": [
        {
          "output_type": "display_data",
          "data": {
            "image/png": "[encoded data removed]",
            "text/plain": [
              "<Figure size 432x288 with 1 Axes>"
            ]
          },
          "metadata": {
            "tags": []
          }
        }
      ]
    },
    {
      "cell_type": "code",
      "metadata": {
        "id": "K9vuLEjTNN2E",
        "colab_type": "code",
        "colab": {}
      },
      "source": [
        "X_train = X[X[:]>0]\n",
        "y_train = y[X[:]>0]\n",
        "\n",
        "X_tile = np.tile(X_train,(N_t+1,1)).T\n",
        "Delta = np.tile(thresholds[:-1]+0.0025,(X_tile.shape[0],1))\n",
        "X_prime = X_tile + Delta\n",
        "p0_hat_1 = 1 - np.reshape(kr.fit(X_prime.flatten())[0],(X_prime.shape[0],X_prime.shape[1]))\n",
        "p0_hat_0 = 1 - np.reshape(kr.fit(Delta.flatten())[0],(Delta.shape[0],Delta.shape[1]))\n",
        "exp_1 = np.dot(-np.log(p0_hat_1),phat)\n",
        "exp_0 = np.dot(-np.log(p0_hat_0),phat)\n",
        "h = exp_1 - exp_0\n",
        "\n",
        "\n"
      ],
      "execution_count": 0,
      "outputs": []
    },
    {
      "cell_type": "code",
      "metadata": {
        "id": "LqA845jgKSqj",
        "colab_type": "code",
        "outputId": "78795baf-be4d-4226-e5f3-4a852f34abd0",
        "colab": {
          "base_uri": "https://localhost:8080/",
          "height": 435
        }
      },
      "source": [
        "X_train_1 = np.c_[np.ones((X_train.shape[0],)),X_train,h]\n",
        "\n",
        "mod = sm.Logit(y_train,X_train_1)\n",
        "logit = mod.fit()\n",
        "print(logit.summary())\n"
      ],
      "execution_count": 0,
      "outputs": [
        {
          "output_type": "stream",
          "text": [
            "Optimization terminated successfully.\n",
            "         Current function value: 0.038082\n",
            "         Iterations 14\n",
            "                           Logit Regression Results                           \n",
            "==============================================================================\n",
            "Dep. Variable:                      y   No. Observations:                13062\n",
            "Model:                          Logit   Df Residuals:                    13059\n",
            "Method:                           MLE   Df Model:                            2\n",
            "Date:                Fri, 14 Feb 2020   Pseudo R-squ.:                  0.1662\n",
            "Time:                        01:33:06   Log-Likelihood:                -497.43\n",
            "converged:                       True   LL-Null:                       -596.55\n",
            "Covariance Type:            nonrobust   LLR p-value:                 8.921e-44\n",
            "==============================================================================\n",
            "                 coef    std err          z      P>|z|      [0.025      0.975]\n",
            "------------------------------------------------------------------------------\n",
            "const         33.5758      6.543      5.132      0.000      20.752      46.400\n",
            "x1             0.3742      0.441      0.848      0.396      -0.491       1.239\n",
            "x2             1.4350      0.345      4.154      0.000       0.758       2.112\n",
            "==============================================================================\n",
            "\n",
            "Possibly complete quasi-separation: A fraction 0.37 of observations can be\n",
            "perfectly predicted. This might indicate that there is complete\n",
            "quasi-separation. In this case some parameters will not be identified.\n"
          ],
          "name": "stdout"
        }
      ]
    }
  ]
}